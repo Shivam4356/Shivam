{
  "nbformat": 4,
  "nbformat_minor": 0,
  "metadata": {
    "colab": {
      "provenance": [],
      "authorship_tag": "ABX9TyPQlWBryFNlwS9ysiVkAvE8",
      "include_colab_link": true
    },
    "kernelspec": {
      "name": "python3",
      "display_name": "Python 3"
    },
    "language_info": {
      "name": "python"
    }
  },
  "cells": [
    {
      "cell_type": "markdown",
      "metadata": {
        "id": "view-in-github",
        "colab_type": "text"
      },
      "source": [
        "<a href=\"https://colab.research.google.com/github/Shivam4356/Shivam/blob/main/calculator_program_.ipynb\" target=\"_parent\"><img src=\"https://colab.research.google.com/assets/colab-badge.svg\" alt=\"Open In Colab\"/></a>"
      ]
    },
    {
      "cell_type": "code",
      "execution_count": 4,
      "metadata": {
        "colab": {
          "base_uri": "https://localhost:8080/"
        },
        "id": "8_f1qR4x2Zpg",
        "outputId": "03e3ddbb-438e-424e-a3fa-2571705b943a"
      },
      "outputs": [
        {
          "output_type": "stream",
          "name": "stdout",
          "text": [
            "Enter a number: 4.5\n",
            "<class 'float'>\n"
          ]
        }
      ],
      "source": [
        "x = float(input('Enter a number: '))\n",
        "print(type(x))"
      ]
    },
    {
      "cell_type": "code",
      "source": [
        "x = float(5)\n",
        "print('The number is ' + str(x))\n",
        "type(x)"
      ],
      "metadata": {
        "colab": {
          "base_uri": "https://localhost:8080/"
        },
        "id": "j9O0mJTt3dgQ",
        "outputId": "25f4a57a-c03b-4977-8365-d71e4beda996"
      },
      "execution_count": 7,
      "outputs": [
        {
          "output_type": "stream",
          "name": "stdout",
          "text": [
            "The number is 5.0\n"
          ]
        },
        {
          "output_type": "execute_result",
          "data": {
            "text/plain": [
              "float"
            ]
          },
          "metadata": {},
          "execution_count": 7
        }
      ]
    },
    {
      "cell_type": "markdown",
      "source": [
        "# Calculator Program\n"
      ],
      "metadata": {
        "id": "eaYyiabV5n0L"
      }
    },
    {
      "cell_type": "code",
      "source": [
        "first_number = int(input('Type the first number: '))\n",
        "second_number = int(input('Type the second number: '))\n",
        "print(f\"The sum is:  {first_number + second_number}\")\n",
        "print(f\"sum of number : {first_number+ second_number}\" )"
      ],
      "metadata": {
        "colab": {
          "base_uri": "https://localhost:8080/"
        },
        "id": "TCeEBTeC4RSp",
        "outputId": "d3b43754-a9f1-48b2-c814-5654860ad212"
      },
      "execution_count": 11,
      "outputs": [
        {
          "output_type": "stream",
          "name": "stdout",
          "text": [
            "Type the first number: 6\n",
            "Type the second number: 7\n",
            "The sum is:  13\n",
            "sum of number : 13\n"
          ]
        }
      ]
    }
  ]
}