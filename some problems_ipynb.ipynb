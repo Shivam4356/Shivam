{
  "nbformat": 4,
  "nbformat_minor": 0,
  "metadata": {
    "colab": {
      "provenance": [],
      "authorship_tag": "ABX9TyMORSkp4e6rNZBFV0NWeJ1F",
      "include_colab_link": true
    },
    "kernelspec": {
      "name": "python3",
      "display_name": "Python 3"
    },
    "language_info": {
      "name": "python"
    }
  },
  "cells": [
    {
      "cell_type": "markdown",
      "metadata": {
        "id": "view-in-github",
        "colab_type": "text"
      },
      "source": [
        "<a href=\"https://colab.research.google.com/github/Shivam4356/Shivam/blob/main/some%20problems_ipynb.ipynb\" target=\"_parent\"><img src=\"https://colab.research.google.com/assets/colab-badge.svg\" alt=\"Open In Colab\"/></a>"
      ]
    },
    {
      "cell_type": "code",
      "execution_count": null,
      "metadata": {
        "id": "4xJt4h9WhOWE"
      },
      "outputs": [],
      "source": []
    },
    {
      "cell_type": "markdown",
      "source": [
        "1.What is indentation error? Why indentation is important? Give one simple example?\n",
        "Ans: the indentation error is not using the space before the statement , indentation is important because if you can't give the indentation you see the indentation block error in python and you are not able to run the program.\n"
      ],
      "metadata": {
        "id": "vPTEGM97hRw0"
      }
    },
    {
      "cell_type": "markdown",
      "source": [
        "Example indentation\n"
      ],
      "metadata": {
        "id": "liqoNjUOiHrb"
      }
    },
    {
      "cell_type": "code",
      "source": [
        "assigment = True\n",
        "\n",
        "if assigment: \n",
        "print(let do the assignment)\n"
      ],
      "metadata": {
        "colab": {
          "base_uri": "https://localhost:8080/",
          "height": 130
        },
        "id": "v6ELFK_miNGc",
        "outputId": "d346e11b-3567-46c9-bebd-173e089b4b2a"
      },
      "execution_count": 2,
      "outputs": [
        {
          "output_type": "error",
          "ename": "IndentationError",
          "evalue": "ignored",
          "traceback": [
            "\u001b[0;36m  File \u001b[0;32m\"<ipython-input-2-7e242e866e77>\"\u001b[0;36m, line \u001b[0;32m4\u001b[0m\n\u001b[0;31m    print(let do the assignment)\u001b[0m\n\u001b[0m        ^\u001b[0m\n\u001b[0;31mIndentationError\u001b[0m\u001b[0;31m:\u001b[0m expected an indented block\n"
          ]
        }
      ]
    },
    {
      "cell_type": "code",
      "source": [
        "assigment = False\n",
        "if assigment:\n",
        "        print(\"let do the assignment\")\n",
        "else:\n",
        "        print(\"not do the assigment\")\n"
      ],
      "metadata": {
        "colab": {
          "base_uri": "https://localhost:8080/"
        },
        "id": "GzkqQUXyizpD",
        "outputId": "b959ec03-5de2-4938-d40f-6ae22994cca7"
      },
      "execution_count": 5,
      "outputs": [
        {
          "output_type": "stream",
          "name": "stdout",
          "text": [
            "not do the assigment\n"
          ]
        }
      ]
    },
    {
      "cell_type": "markdown",
      "source": [
        "Correct the following code and write the comment where you made the correction?\n",
        "\n",
        "  ```python\n",
        "  class_started = bool(input(\"Hey friend, is class started?: [0-False/1-True]\"))\n",
        "\n",
        "  if class_started:\n",
        "      print(\"Since class started...\")\n",
        "      print(\"Lets concentrate\")\n",
        "  else:\n",
        "      print(\"Since class is not started...\")\n",
        "      print(\"let's revise\")    \n",
        "  ```\n",
        "  Ans : I made the correction indentation error before if and else statment.\n"
      ],
      "metadata": {
        "id": "1Wgf9Y-5jdo1"
      }
    },
    {
      "cell_type": "code",
      "source": [
        "class_started = bool(input(\"Hey friend, is class_started?:[0-False/1-True]\"))\n",
        "\n",
        "if class_started:\n",
        "        print(\"Since class started\")\n",
        "        print(\"Lets concentrate\")\n",
        "else:\n",
        "      print(\"Since class is not started\")\n",
        "      print(\"let's revise\")\n",
        "    "
      ],
      "metadata": {
        "colab": {
          "base_uri": "https://localhost:8080/"
        },
        "id": "bO3FQUjZnqmq",
        "outputId": "3c70b010-4fa5-48e7-e2dc-0bf75db094a4"
      },
      "execution_count": 25,
      "outputs": [
        {
          "output_type": "stream",
          "name": "stdout",
          "text": [
            "Hey friend, is class_started?:[0-False/1-True]\n",
            "Since class is not started\n",
            "let's revise\n"
          ]
        }
      ]
    },
    {
      "cell_type": "markdown",
      "source": [
        "Use if else condition to verify that dataype of `input()` method in python is always string."
      ],
      "metadata": {
        "id": "q1ReDgbspPc-"
      }
    },
    {
      "cell_type": "code",
      "source": [
        "c = int (input(\"enter the value of c: \"))\n",
        "d = int (input(\"enter the value of d: \"))\n",
        "if c == d :\n",
        "  print(\"c is equal d\")\n",
        "else:\n",
        "  print(\"c is not equal d\")"
      ],
      "metadata": {
        "colab": {
          "base_uri": "https://localhost:8080/"
        },
        "id": "ogax9R9zpjvr",
        "outputId": "7f5168af-5140-4251-95cb-edd38930a71d"
      },
      "execution_count": 40,
      "outputs": [
        {
          "output_type": "stream",
          "name": "stdout",
          "text": [
            "enter the value of c: 5\n",
            "enter the value of d: 6\n",
            "c is not equal d\n"
          ]
        }
      ]
    },
    {
      "cell_type": "markdown",
      "source": [
        "Take 3 variables and assign integer values to them. Find the largest variable, by only using the if and else conditions.\n"
      ],
      "metadata": {
        "id": "-ucqJvyM4-VW"
      }
    },
    {
      "cell_type": "code",
      "source": [
        "a = 3\n",
        "b = 5\n",
        "c = 7 \n",
        "if c>b>a:\n",
        "  print(\"c is biggest variable\")\n",
        "  print(f\"enter the value : {c} \")\n",
        "else:\n",
        "    print(\"a is smallest variable\")\n",
        "\n",
        "\n",
        "  \n",
        "\n",
        "  \n",
        "\n",
        "\n",
        "\n",
        "\n"
      ],
      "metadata": {
        "colab": {
          "base_uri": "https://localhost:8080/"
        },
        "id": "V2VIbHAC5N64",
        "outputId": "09be178d-e2db-4257-bd46-bf84ec86b177"
      },
      "execution_count": 68,
      "outputs": [
        {
          "output_type": "stream",
          "name": "stdout",
          "text": [
            "c is biggest variable\n",
            "enter the value : 7 \n"
          ]
        }
      ]
    },
    {
      "cell_type": "markdown",
      "source": [
        "What would be the solution?\n",
        "    1. True\n",
        "    2. False\n",
        "\n",
        "    ```python\n",
        "    a = 6\n",
        "    b = 10\n",
        "    print( not ( not a == 10 or not b == 10) )\n",
        "    ```\n",
        "    Ans : False"
      ],
      "metadata": {
        "id": "xiXAxjlx_jbe"
      }
    },
    {
      "cell_type": "markdown",
      "source": [
        "Find the answer as well as find out the reason behind the result? -\n",
        "    - case 1:\n",
        "        ```python\n",
        "        A = 5.0\n",
        "        B = 10/2\n",
        "        print(A is B)\n",
        "        ```\n",
        "    - case 2:\n",
        "        ```python\n",
        "        A = 5.0\n",
        "        B = int(10/2)\n",
        "        print(A is B)\n",
        "        ```\n",
        "    - case 3:\n",
        "        ```python\n",
        "        A = 5.0\n",
        "        B = float(10/2)\n",
        "        print(A is B)\n",
        "        ```"
      ],
      "metadata": {
        "id": "7GUAy3cYJHoq"
      }
    },
    {
      "cell_type": "markdown",
      "source": [
        "Case 1.\n"
      ],
      "metadata": {
        "id": "azi72OPpJw5e"
      }
    },
    {
      "cell_type": "markdown",
      "source": [
        "it's false because a value is decimal if 2 div by 10 then there is no reminder"
      ],
      "metadata": {
        "id": "xwv2iCYKKcGr"
      }
    },
    {
      "cell_type": "code",
      "source": [
        " a == b\n",
        " a = 5.0\n",
        " b = 10/2\n",
        "print(a is b)"
      ],
      "metadata": {
        "colab": {
          "base_uri": "https://localhost:8080/"
        },
        "id": "aBaaF3DkJhV7",
        "outputId": "4a77a872-f01a-46f6-be18-7a66361e4c02"
      },
      "execution_count": 71,
      "outputs": [
        {
          "output_type": "stream",
          "name": "stdout",
          "text": [
            "False\n"
          ]
        }
      ]
    },
    {
      "cell_type": "markdown",
      "source": [
        "Case 2.\n",
        "same here\n",
        "\n",
        "\n",
        "\n",
        "\n"
      ],
      "metadata": {
        "id": "MjaH8PyzJAsk"
      }
    },
    {
      "cell_type": "code",
      "source": [
        " a = 5.0\n",
        " b = int(10/2)\n",
        " print(a is b)"
      ],
      "metadata": {
        "colab": {
          "base_uri": "https://localhost:8080/"
        },
        "id": "XzzmArN2J6ug",
        "outputId": "3c814dc4-edec-4e4d-b858-a858071ef5c8"
      },
      "execution_count": 70,
      "outputs": [
        {
          "output_type": "stream",
          "name": "stdout",
          "text": [
            "False\n"
          ]
        }
      ]
    },
    {
      "cell_type": "markdown",
      "source": [
        "Case 3.\n"
      ],
      "metadata": {
        "id": "00b6sxeHK9Lt"
      }
    },
    {
      "cell_type": "markdown",
      "source": [
        "i am not sure but you can't use datatype assign the value in variable."
      ],
      "metadata": {
        "id": "OMrmgVqIMh0W"
      }
    },
    {
      "cell_type": "markdown",
      "source": [],
      "metadata": {
        "id": "cLS5HTfoJ0JT"
      }
    },
    {
      "cell_type": "code",
      "source": [
        "A = 5.0 \n",
        "B = float(10/2)\n",
        "print(A is B)\n"
      ],
      "metadata": {
        "colab": {
          "base_uri": "https://localhost:8080/"
        },
        "id": "wuZcnpFFLBwv",
        "outputId": "dd9eb05c-e2c9-4fd0-d528-80a93f90bef8"
      },
      "execution_count": 96,
      "outputs": [
        {
          "output_type": "stream",
          "name": "stdout",
          "text": [
            "False\n"
          ]
        }
      ]
    },
    {
      "cell_type": "markdown",
      "source": [
        "Try to understand the following examples and answer the question based on it -\n",
        "Arithmatic Operators\n",
        "\n",
        "Operation\tMeaning\n",
        "+\taddition\n",
        "-\tsubtraction\n",
        "*\tmultiplication\n",
        "/\ttrue division\n",
        "//\tinteger division\n",
        "%\tthe modulo operator\n",
        "Here +, -, *, / are regular arithmatic operators. Lets look at the // and % operators\n",
        "\n",
        "Usecase or examples -\n",
        "\n",
        "var_a = 5\n",
        "var_b = 25\n",
        "integer_division = var_b // var_a\n",
        "print(f\"integer division: {var_b}/{var_a}={integer_division}\")\n",
        "OUTPUT: integer division: 25/5=5\n",
        "\n",
        "var_a = 3\n",
        "var_b = 25\n",
        "integer_division = var_b // var_a\n",
        "print(f\"integer division: {var_b}/{var_a}={integer_division}\")\n",
        "OUTPUT: integer division: 25/3=8\n",
        "\n",
        "var_a = 5\n",
        "var_b = 25\n",
        "remainder = var_b % var_a\n",
        "print(f\"remainder: {var_b}/{var_a} is {remainder}\")\n",
        "OUTPUT: remainder: 25/5 is 0\n",
        "\n",
        "var_a = 3\n",
        "var_b = 25\n",
        "remainder = var_b % var_a\n",
        "print(f\"remainder: {var_b}/{var_a} is {remainder}\")\n",
        "OUTPUT: remainder: 25/3 is 1\n",
        "\n",
        "Answer below questions on the above theory -\n",
        "Write a program that asks the user to enter a number. You should print out a message to the user, either “That number is divisible by either 3 or 5”, or “That number is not divisible by either 3 or 5”. Be sure to consider the data type of the input you are taking in from the user. Use a single if/else block to solve this problem.\n",
        "\n",
        "Take user input for length and width. Then calculate the area of rectangle. Also print as per length and width whether its a square of rectangle.\n",
        "\n",
        "Take two variable radius_1 and radius_2 and calculate the area of circle_1 and circle_2. Also print which circle has large area. If area is equal then print area is equal.\n",
        "\n",
        "Check whether a year is leap year or not. Use nested if...else to solve this problem. A leap year is exactly divisible by 4 except for century years (years ending with 00). The century year is a leap year only if it is perfectly divisible by 400.\n",
        "\n",
        "[ ]\n"
      ],
      "metadata": {
        "id": "FXORC5zpN5gL"
      }
    },
    {
      "cell_type": "markdown",
      "source": [
        "Write a program that asks the user to enter a number. You should print out a message to the user, either “That number is divisible by either 3 or 5”, or “That number is not divisible by either 3 or 5”. Be sure to consider the data type of the input you are taking in from the user. Use a single if/else block to solve this problem"
      ],
      "metadata": {
        "id": "Ooc_b_vQO7C0"
      }
    },
    {
      "cell_type": "code",
      "source": [
        "var_a = int(var_a)\n",
        "var_b = int(var_b)\n",
        "integer_division = (var_b) // (var_a)\n",
        "print(f\"integer division: {var_b}/{var_a}={integer_division}\")\n",
        "print(f\"enter the number : {var_a} , {var_b} \")\n",
        "if var_b // var_a :\n",
        "  print(\"That number is divisible by either 3 or 5\")\n",
        "else:\n",
        "  print(\"That number is not divisible by either 3 or 5\")"
      ],
      "metadata": {
        "colab": {
          "base_uri": "https://localhost:8080/"
        },
        "id": "Mtk_CsUxPKuP",
        "outputId": "4777877e-bac8-499d-8dd0-e50523d7e01b"
      },
      "execution_count": 104,
      "outputs": [
        {
          "output_type": "stream",
          "name": "stdout",
          "text": [
            "integer division: 1/1=1\n",
            "enter the number : 1 , 1 \n",
            "That number is divisible by either 3 or 5\n"
          ]
        }
      ]
    },
    {
      "cell_type": "markdown",
      "source": [
        "Take user input for length and width. Then calculate the area of rectangle. Also print as per length and width whether its a square of rectangle."
      ],
      "metadata": {
        "id": "darX978CRqrd"
      }
    },
    {
      "cell_type": "code",
      "source": [
        "length_of_a = 4\n",
        "width_of_b  = 7\n",
        "rectangle = a*b\n",
        "print(f\"area of the rectangle is : {rectangle}\")\n",
        "square = a**2+b**2\n",
        "print(f\"square of the rectangle is : {square}\")\n",
        "\n"
      ],
      "metadata": {
        "colab": {
          "base_uri": "https://localhost:8080/"
        },
        "id": "QRLC0sUFSTGn",
        "outputId": "40cc9680-979e-4d18-c3fa-1f8f1bb71843"
      },
      "execution_count": 118,
      "outputs": [
        {
          "output_type": "stream",
          "name": "stdout",
          "text": [
            "area of the rectangle is : 28\n",
            "square of the rectangle is : 65\n"
          ]
        }
      ]
    },
    {
      "cell_type": "markdown",
      "source": [
        "Take two variable radius_1 and radius_2 and calculate the area of circle_1 and circle_2. Also print which circle has large area. If area is equal then print area is equal."
      ],
      "metadata": {
        "id": "QBRa21VrVLHd"
      }
    },
    {
      "cell_type": "code",
      "source": [
        "radius_1 = 15\n",
        "radius_2 = 30\n",
        "area_1 = int(22/7*15**2)\n",
        "print(f\"circle of the area is : {area_1} \")\n",
        "area_2 = int(22/7*30**2)\n",
        "print(f\"circle of the area is : {area_2} \")\n",
        "if area_2>area_1 :\n",
        "  print(\"area 2 is large area\")\n",
        "else:\n",
        "    print(\"area 1 is small area\")\n"
      ],
      "metadata": {
        "colab": {
          "base_uri": "https://localhost:8080/"
        },
        "id": "fBsnL7rbVjiJ",
        "outputId": "90113e3c-8620-4e15-858a-e4d1803fd5ff"
      },
      "execution_count": 122,
      "outputs": [
        {
          "output_type": "stream",
          "name": "stdout",
          "text": [
            "circle of the area is : 707 \n",
            "circle of the area is : 2828 \n",
            "area 2 is large area\n"
          ]
        }
      ]
    },
    {
      "cell_type": "markdown",
      "source": [
        "Check whether a year is leap year or not. Use nested if...else to solve this problem. A leap year is exactly divisible by 4 except for century years (years ending with 00). The century year is a leap year only if it is perfectly divisible by 400."
      ],
      "metadata": {
        "id": "0z7VbU8zXEtf"
      }
    },
    {
      "cell_type": "code",
      "source": [
        "century_year = 5000\n",
        "current_year = 400\n",
        "if century_year/current_year:\n",
        "  print(\"century year is leap year\")\n",
        "if century_year==current_year:\n",
        "  print(\"this is not perfect year\")\n",
        "else:\n",
        "  print(\"this is not century year\")\n",
        "\n",
        "\n"
      ],
      "metadata": {
        "colab": {
          "base_uri": "https://localhost:8080/"
        },
        "id": "QbRAu4UiXqSo",
        "outputId": "49ea7495-8e59-46d2-b164-82a90512c786"
      },
      "execution_count": 132,
      "outputs": [
        {
          "output_type": "stream",
          "name": "stdout",
          "text": [
            "century year is leap year\n",
            "this is not century year\n"
          ]
        }
      ]
    }
  ]
}